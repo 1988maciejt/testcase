{
 "cells": [
  {
   "cell_type": "markdown",
   "metadata": {
    "jp-MarkdownHeadingCollapsed": true,
    "tags": []
   },
   "source": [
    "# AIO prepairing"
   ]
  },
  {
   "cell_type": "code",
   "execution_count": 1,
   "metadata": {},
   "outputs": [
    {
     "name": "stdout",
     "output_type": "stream",
     "text": [
      "AIO2 initialized successfully\n"
     ]
    }
   ],
   "source": [
    "# IMPORT Maciej Trawka's All-In-One 2\n",
    "import sys\n",
    "try:\n",
    "    sys.path.append('../../bin')\n",
    "    sys.path.append('./data')\n",
    "    from aio import *\n",
    "    print('AIO2 initialized successfully')\n",
    "except:\n",
    "    print('ERROR - cannot initialize AIO2')"
   ]
  },
  {
   "cell_type": "markdown",
   "metadata": {
    "jp-MarkdownHeadingCollapsed": true,
    "tags": []
   },
   "source": [
    "# Collecting parameters"
   ]
  },
  {
   "cell_type": "code",
   "execution_count": 2,
   "metadata": {},
   "outputs": [],
   "source": [
    "RING_GENERATOR_SIZE_LIST    = [64, 128, 192, 256]\n",
    "SAMPLES_COUNT               = 100000\n",
    "CYCLES_COUNT_POLY_DEPENDENT = {\n",
    "                                64: 2048,\n",
    "                                128: 2048,\n",
    "                                192: 4096,\n",
    "                                256: 4096\n",
    "                              }"
   ]
  },
  {
   "cell_type": "markdown",
   "metadata": {
    "tags": []
   },
   "source": [
    "# Polynomials generating"
   ]
  },
  {
   "cell_type": "markdown",
   "metadata": {
    "jp-MarkdownHeadingCollapsed": true,
    "tags": []
   },
   "source": [
    "## Generate and store to files"
   ]
  },
  {
   "cell_type": "code",
   "execution_count": 3,
   "metadata": {},
   "outputs": [
    {
     "name": "stdout",
     "output_type": "stream",
     "text": [
      "                                                                               \r"
     ]
    }
   ],
   "source": [
    "if False:\n",
    "    POLYNOMIALS = []\n",
    "    for degree in RING_GENERATOR_SIZE_LIST:\n",
    "        POLYNOMIALS.append([f'deg{degree}_dense', Polynomial.firstDense(degree), CYCLES_COUNT_POLY_DEPENDENT[degree]])\n",
    "        POLYNOMIALS.append([f'deg{degree}_every8', Polynomial.firstEveryNTaps(degree, 8), CYCLES_COUNT_POLY_DEPENDENT[degree]])\n",
    "    for [name, poly, cycles] in POLYNOMIALS:\n",
    "        writeObjectToFile(f'./data/{name}.poly', poly)"
   ]
  },
  {
   "cell_type": "markdown",
   "metadata": {
    "jp-MarkdownHeadingCollapsed": true,
    "tags": []
   },
   "source": [
    "## Restore from files"
   ]
  },
  {
   "cell_type": "code",
   "execution_count": 16,
   "metadata": {},
   "outputs": [],
   "source": [
    "if True:\n",
    "    POLYNOMIALS = []\n",
    "    for degree in RING_GENERATOR_SIZE_LIST:\n",
    "        POLYNOMIALS.append([f'deg{degree}_dense', readObjectFromFile(f'./data/deg{degree}_dense.poly'), CYCLES_COUNT_POLY_DEPENDENT[degree]])\n",
    "        POLYNOMIALS.append([f'deg{degree}_every8', readObjectFromFile(f'./data/deg{degree}_every8.poly'), CYCLES_COUNT_POLY_DEPENDENT[degree]])"
   ]
  },
  {
   "cell_type": "markdown",
   "metadata": {
    "jp-MarkdownHeadingCollapsed": true,
    "tags": []
   },
   "source": [
    "## Polynomials info"
   ]
  },
  {
   "cell_type": "code",
   "execution_count": 17,
   "metadata": {},
   "outputs": [
    {
     "name": "stdout",
     "output_type": "stream",
     "text": [
      "\n",
      "\n",
      "================================================================================\n",
      "deg64_dense\n",
      "================================================================================\n",
      "\n",
      "\n",
      "-------------------------\n",
      "Polynomial  deg=64, bal=1\n",
      "-------------------------\n",
      "\n",
      "Degree            :  64\n",
      "Coefficients count:  31\n",
      "Hex with degree   :  15⁶49295⁶\n",
      "Hex without degree:  5⁶49295⁶\n",
      "Balancing         :  1\n",
      "Is layout-friendly:  True\n",
      "Coefficients      :  [64, 62, 60, 58, 56, 54, 52, 50, 48, 46, 44, 42, 40, 38, 35, 32, 29, 27, 24, 22, 20, 18, 16, 14, 12, 10, 8, 6, 4, 2, 0]\n",
      "\n",
      "\n",
      "\n",
      "================================================================================\n",
      "deg64_every8\n",
      "================================================================================\n",
      "\n",
      "\n",
      "-------------------------\n",
      "Polynomial  deg=64, bal=4\n",
      "-------------------------\n",
      "\n",
      "Degree            :  64\n",
      "Coefficients count:  9\n",
      "Hex with degree   :  1040202010²802041\n",
      "Hex without degree:  40202010²802041\n",
      "Balancing         :  4\n",
      "Is layout-friendly:  True\n",
      "Coefficients      :  [64, 58, 49, 41, 32, 23, 13, 6, 0]\n",
      "\n",
      "\n",
      "\n",
      "================================================================================\n",
      "deg128_dense\n",
      "================================================================================\n",
      "\n",
      "\n",
      "--------------------------\n",
      "Polynomial  deg=128, bal=1\n",
      "--------------------------\n",
      "\n",
      "Degree            :  128\n",
      "Coefficients count:  63\n",
      "Hex with degree   :  15⁷2925²²\n",
      "Hex without degree:  5⁷2925²²\n",
      "Balancing         :  1\n",
      "Is layout-friendly:  True\n",
      "Coefficients      :  [128, 126, 124, 122, 120, 118, 116, 114, 112, 110, 108, 106, 104, 102, 100, 97, 95, 92, 89, 86, 84, 82, 80, 78, 76, 74, 72, 70, 68, 66, 64, 62, 60, 58, 56, 54, 52, 50, 48, 46, 44, 42, 40, 38, 36, 34, 32, 30, 28, 26, 24, 22, 20, 18, 16, 14, 12, 10, 8, 6, 4, 2, 0]\n",
      "\n",
      "\n",
      "\n",
      "================================================================================\n",
      "deg128_every8\n",
      "================================================================================\n",
      "\n",
      "\n",
      "--------------------------\n",
      "Polynomial  deg=128, bal=4\n",
      "--------------------------\n",
      "\n",
      "Degree            :  128\n",
      "Coefficients count:  17\n",
      "Hex with degree   :  104020²802010²802010²401041041041\n",
      "Hex without degree:  4020²802010²802010²401041041041\n",
      "Balancing         :  4\n",
      "Is layout-friendly:  True\n",
      "Coefficients      :  [128, 122, 113, 103, 93, 84, 75, 65, 56, 46, 36, 30, 24, 18, 12, 6, 0]\n",
      "\n",
      "\n",
      "\n",
      "================================================================================\n",
      "deg192_dense\n",
      "================================================================================\n",
      "\n",
      "\n",
      "--------------------------\n",
      "Polynomial  deg=192, bal=1\n",
      "--------------------------\n",
      "\n",
      "Degree            :  192\n",
      "Coefficients count:  95\n",
      "Hex with degree   :  15⁷2925³⁸\n",
      "Hex without degree:  5⁷2925³⁸\n",
      "Balancing         :  1\n",
      "Is layout-friendly:  True\n",
      "Coefficients      :  [192, 190, 188, 186, 184, 182, 180, 178, 176, 174, 172, 170, 168, 166, 164, 161, 159, 156, 153, 150, 148, 146, 144, 142, 140, 138, 136, 134, 132, 130, 128, 126, 124, 122, 120, 118, 116, 114, 112, 110, 108, 106, 104, 102, 100, 98, 96, 94, 92, 90, 88, 86, 84, 82, 80, 78, 76, 74, 72, 70, 68, 66, 64, 62, 60, 58, 56, 54, 52, 50, 48, 46, 44, 42, 40, 38, 36, 34, 32, 30, 28, 26, 24, 22, 20, 18, 16, 14, 12, 10, 8, 6, 4, 2, 0]\n",
      "\n",
      "\n",
      "\n",
      "================================================================================\n",
      "deg192_every8\n",
      "================================================================================\n",
      "\n",
      "\n",
      "--------------------------\n",
      "Polynomial  deg=192, bal=4\n",
      "--------------------------\n",
      "\n",
      "Degree            :  192\n",
      "Coefficients count:  25\n",
      "Hex with degree   :  104020²8020²802010²8020²802010²401041041041041041\n",
      "Hex without degree:  4020²8020²802010²8020²802010²401041041041041041\n",
      "Balancing         :  4\n",
      "Is layout-friendly:  True\n",
      "Coefficients      :  [192, 186, 177, 167, 157, 147, 137, 128, 119, 109, 99, 89, 80, 70, 60, 54, 48, 42, 36, 30, 24, 18, 12, 6, 0]\n",
      "\n",
      "\n",
      "\n",
      "================================================================================\n",
      "deg256_dense\n",
      "================================================================================\n",
      "\n",
      "\n",
      "--------------------------\n",
      "Polynomial  deg=256, bal=1\n",
      "--------------------------\n",
      "\n",
      "Degree            :  256\n",
      "Coefficients count:  127\n",
      "Hex with degree   :  15²⁰24A5⁴¹\n",
      "Hex without degree:  5²⁰24A5⁴¹\n",
      "Balancing         :  1\n",
      "Is layout-friendly:  True\n",
      "Coefficients      :  [256, 254, 252, 250, 248, 246, 244, 242, 240, 238, 236, 234, 232, 230, 228, 226, 224, 222, 220, 218, 216, 214, 212, 210, 208, 206, 204, 202, 200, 198, 196, 194, 192, 190, 188, 186, 184, 182, 180, 178, 176, 173, 170, 167, 165, 162, 160, 158, 156, 154, 152, 150, 148, 146, 144, 142, 140, 138, 136, 134, 132, 130, 128, 126, 124, 122, 120, 118, 116, 114, 112, 110, 108, 106, 104, 102, 100, 98, 96, 94, 92, 90, 88, 86, 84, 82, 80, 78, 76, 74, 72, 70, 68, 66, 64, 62, 60, 58, 56, 54, 52, 50, 48, 46, 44, 42, 40, 38, 36, 34, 32, 30, 28, 26, 24, 22, 20, 18, 16, 14, 12, 10, 8, 6, 4, 2, 0]\n",
      "\n",
      "\n",
      "\n",
      "================================================================================\n",
      "deg256_every8\n",
      "================================================================================\n",
      "\n",
      "\n",
      "--------------------------\n",
      "Polynomial  deg=256, bal=4\n",
      "--------------------------\n",
      "\n",
      "Degree            :  256\n",
      "Coefficients count:  33\n",
      "Hex with degree   :  104020²8020²802010²8020²8020²8020²8020²80201041041041041041041041\n",
      "Hex without degree:  4020²8020²802010²8020²8020²8020²8020²80201041041041041041041041\n",
      "Balancing         :  4\n",
      "Is layout-friendly:  True\n",
      "Coefficients      :  [256, 250, 241, 231, 221, 211, 201, 192, 183, 173, 163, 153, 143, 133, 123, 113, 103, 93, 84, 78, 72, 66, 60, 54, 48, 42, 36, 30, 24, 18, 12, 6, 0]\n",
      "\n"
     ]
    }
   ],
   "source": [
    "for [name, poly, cycles] in POLYNOMIALS:\n",
    "    Aio.transcriptSectionBegin(name)\n",
    "    poly.printFullInfo()"
   ]
  },
  {
   "cell_type": "markdown",
   "metadata": {
    "tags": []
   },
   "source": [
    "# FPGA prepairing"
   ]
  },
  {
   "cell_type": "code",
   "execution_count": 25,
   "metadata": {},
   "outputs": [
    {
     "name": "stdout",
     "output_type": "stream",
     "text": [
      "ERROR: FPGA seems to be disconnected!\n"
     ]
    }
   ],
   "source": [
    "from trng import *\n",
    "try:\n",
    "    fpga = TRNG2(Serial.first())\n",
    "except:\n",
    "    Aio.printError(\"FPGA seems to be disconnected!\")"
   ]
  },
  {
   "cell_type": "code",
   "execution_count": 23,
   "metadata": {},
   "outputs": [
    {
     "name": "stdout",
     "output_type": "stream",
     "text": [
      "10000010000000010000000001000000000100000000010000000001000000001000000001000000000100000000010000000001000000000100000000010000000001000000000100000000010000000001000000001000001000001000001000001000001000001000001000001000001000001000001000001000001000001\n"
     ]
    },
    {
     "ename": "NameError",
     "evalue": "name 'fpga' is not defined",
     "output_type": "error",
     "traceback": [
      "\u001b[0;31m---------------------------------------------------------------------------\u001b[0m",
      "\u001b[0;31mNameError\u001b[0m                                 Traceback (most recent call last)",
      "Input \u001b[0;32mIn [23]\u001b[0m, in \u001b[0;36m<cell line: 1>\u001b[0;34m()\u001b[0m\n\u001b[1;32m      1\u001b[0m \u001b[38;5;28;01mfor\u001b[39;00m [name, poly, cycles] \u001b[38;5;129;01min\u001b[39;00m POLYNOMIALS:\n\u001b[1;32m      2\u001b[0m     \u001b[38;5;28mprint\u001b[39m(poly_bin_string)\n\u001b[0;32m----> 3\u001b[0m     \u001b[43mfpga\u001b[49m\u001b[38;5;241m.\u001b[39msetCycles(cycles)\n\u001b[1;32m      4\u001b[0m     fpga\u001b[38;5;241m.\u001b[39msetPolynomial(poly\u001b[38;5;241m.\u001b[39mtoInt())\n\u001b[1;32m      5\u001b[0m     \u001b[38;5;28mprint\u001b[39m(fpga\u001b[38;5;241m.\u001b[39mgetSamples(\u001b[38;5;241m10\u001b[39m))\n",
      "\u001b[0;31mNameError\u001b[0m: name 'fpga' is not defined"
     ]
    }
   ],
   "source": [
    "for [name, poly, cycles] in POLYNOMIALS:\n",
    "    print(poly_bin_string)\n",
    "    fpga.setCycles(cycles)\n",
    "    fpga.setPolynomial(poly.toInt())\n",
    "    print(fpga.getSamples(10))"
   ]
  },
  {
   "cell_type": "code",
   "execution_count": null,
   "metadata": {},
   "outputs": [],
   "source": []
  }
 ],
 "metadata": {
  "kernelspec": {
   "display_name": "Python 3 (ipykernel)",
   "language": "python",
   "name": "python3"
  },
  "language_info": {
   "codemirror_mode": {
    "name": "ipython",
    "version": 3
   },
   "file_extension": ".py",
   "mimetype": "text/x-python",
   "name": "python",
   "nbconvert_exporter": "python",
   "pygments_lexer": "ipython3",
   "version": "3.8.10"
  }
 },
 "nbformat": 4,
 "nbformat_minor": 4
}
